{
 "cells": [
  {
   "cell_type": "code",
   "execution_count": 1,
   "metadata": {},
   "outputs": [
    {
     "name": "stdout",
     "output_type": "stream",
     "text": [
      "Are you a cigarette addict older than 75 years old?y\n",
      "Do you have a severe chronic disease? y\n",
      "Is your immune system too weak?y\n",
      "Please try again\n"
     ]
    }
   ],
   "source": [
    "age = input(\"Are you a cigarette addict older than 75 years old?\")\n",
    "\n",
    "chornic = input(\"Do you have a severe chronic disease? \")\n",
    "\n",
    "immune = input(\"Is your immune system too weak?\")\n",
    "\n",
    "if (age == \"yes\" and chornic == \"yes\" and immune == \"yes\") :\n",
    "\n",
    "    print(\"You are in risky group\")\n",
    "\n",
    "elif (age == \"no\" or chornic == \"no\" or immune == \"no\") :\n",
    "\n",
    "     print('You are not in risky group')\n",
    "\n",
    "else :\n",
    "\n",
    "    print('Please try again')"
   ]
  },
  {
   "cell_type": "code",
   "execution_count": null,
   "metadata": {},
   "outputs": [],
   "source": []
  },
  {
   "cell_type": "code",
   "execution_count": null,
   "metadata": {},
   "outputs": [],
   "source": []
  },
  {
   "cell_type": "code",
   "execution_count": null,
   "metadata": {},
   "outputs": [],
   "source": []
  },
  {
   "cell_type": "code",
   "execution_count": null,
   "metadata": {},
   "outputs": [],
   "source": []
  }
 ],
 "metadata": {
  "kernelspec": {
   "display_name": "Python 3",
   "language": "python",
   "name": "python3"
  },
  "language_info": {
   "codemirror_mode": {
    "name": "ipython",
    "version": 3
   },
   "file_extension": ".py",
   "mimetype": "text/x-python",
   "name": "python",
   "nbconvert_exporter": "python",
   "pygments_lexer": "ipython3",
   "version": "3.7.6"
  }
 },
 "nbformat": 4,
 "nbformat_minor": 4
}
